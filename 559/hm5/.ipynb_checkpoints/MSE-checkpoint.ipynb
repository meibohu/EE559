{
 "cells": [
  {
   "cell_type": "code",
   "execution_count": 68,
   "metadata": {},
   "outputs": [],
   "source": [
    "import sklearn \n",
    "import csv\n",
    "import numpy as np \n",
    "import math\n",
    "import matplotlib.pyplot as plt\n",
    "import copy\n",
    "from sklearn.preprocessing import StandardScaler \n",
    "from sklearn.metrics import accuracy_score\n",
    "from sklearn.multiclass import OneVsRestClassifier\n",
    "from sklearn.linear_model import LinearRegression "
   ]
  },
  {
   "cell_type": "code",
   "execution_count": 69,
   "metadata": {},
   "outputs": [
    {
     "name": "stdout",
     "output_type": "stream",
     "text": [
      "(89, 13)\n",
      "(13,)\n",
      "mean of unnormalized data points is: \n",
      "[1.2965391e+01 2.2699997e+00 2.3762920e+00 1.9649437e+01 9.8910110e+01\n",
      " 2.2723591e+00 2.0294383e+00 3.6067417e-01 1.5761796e+00 5.0912361e+00\n",
      " 9.5321345e-01 2.5603375e+00 7.2970789e+02]\n",
      "standard deviation of unnormalized data points is: \n",
      "[8.1956011e-01 1.1030642e+00 2.7300403e-01 3.4651763e+00 1.1558973e+01\n",
      " 6.1454839e-01 9.1971827e-01 1.2024129e-01 5.4147017e-01 2.4043779e+00\n",
      " 2.2990756e-01 7.2346151e-01 3.0722125e+02]\n",
      "After standardization:\n",
      "[[ 0.957351   -0.48954538  0.12347054 ...  0.85593736  0.46949705\n",
      "   1.9213911 ]\n",
      " [ 0.28625914 -0.44421718 -0.86552584 ...  0.4209799   1.1606189\n",
      "   1.0425457 ]\n",
      " [ 0.12763734 -0.69805545 -1.0120445  ...  0.9864245   0.17922582\n",
      "   0.94489616]\n",
      " ...\n",
      " [-0.5312526   2.9372725   0.965949   ... -0.57942194 -1.2030177\n",
      "  -0.6988706 ]\n",
      " [-0.10419382  0.65272725  0.08684108 ... -0.9273878  -1.5762236\n",
      "  -0.6500458 ]\n",
      " [ 0.93294716  1.8947222  -0.42597228 ... -0.753405   -1.1200832\n",
      "  -0.6825957 ]]\n",
      "(89, 13)\n",
      "(89, 2)\n",
      "(89,)\n"
     ]
    }
   ],
   "source": [
    "with open('wine_train.csv', newline='') as f:\n",
    "    reader = csv.reader(f)\n",
    "    data = list(reader)\n",
    "\n",
    "#print(np.shape(data))\n",
    "\n",
    "data_array = np.asarray(data, dtype=np.float32)\n",
    "data_unnorm = copy.deepcopy(data_array)\n",
    "\n",
    "data_fea_unnorm = data_unnorm[:,0:13]\n",
    "print(np.shape(data_fea_unnorm))\n",
    "mean_unnorm = np.mean(data_fea_unnorm, axis = 0)\n",
    "std_unnorm = np.std(data_fea_unnorm, axis = 0)\n",
    "print(np.shape(mean_unnorm))\n",
    "print(\"mean of unnormalized data points is: \") \n",
    "print(mean_unnorm)\n",
    "print(\"standard deviation of unnormalized data points is: \") \n",
    "print(std_unnorm)\n",
    "#standard\n",
    "data_fea_norm = copy.deepcopy(data_fea_unnorm)\n",
    "sc_X = StandardScaler()\n",
    "sc_X.fit(data_fea_norm)\n",
    "data_fea_norm = sc_X.transform(data_fea_norm)     #\tFit to data, then transform it.\n",
    "print('After standardization:') \n",
    "print(data_fea_norm)\n",
    "print(np.shape(data_fea_norm))\n",
    "\n",
    "##take first two columns without normalization\n",
    "feature_2_unnorm = data_unnorm[:,0:2]\n",
    "\n",
    "#take first tow columns with normalization\n",
    "feature_2 = data_fea_norm[:,0:2]\n",
    "print(np.shape(feature_2))\n",
    "class_labels = data_unnorm[:,13]\n",
    "print(np.shape(class_labels))\n",
    "\n",
    "#print(class_labels)"
   ]
  },
  {
   "cell_type": "code",
   "execution_count": 70,
   "metadata": {},
   "outputs": [
    {
     "name": "stdout",
     "output_type": "stream",
     "text": [
      "(89, 13)\n",
      "(13,)\n",
      "mean of unnormalized data points is: \n",
      "[1.3035841e+01 2.4026961e+00 2.3567414e+00 1.9340452e+01 1.0057304e+02\n",
      " 2.3178651e+00 2.0291011e+00 3.6303371e-01 1.6056185e+00 5.0249434e+00\n",
      " 9.6168542e-01 2.6630337e+00 7.6407867e+02]\n",
      "standard deviation of unnormalized data points is: \n",
      "[7.9784650e-01 1.1209162e+00 2.7379057e-01 3.1819615e+00 1.6452784e+01\n",
      " 6.3267130e-01 1.0669327e+00 1.2783770e-01 5.9823513e-01 2.2147870e+00\n",
      " 2.2585285e-01 6.8835980e-01 3.1975562e+02]\n",
      "After standardization:\n",
      "[[ 1.5308298   1.5592928   0.48976514 ... -0.2749518   1.3403103\n",
      "   0.0986004 ]\n",
      " [-1.1779407  -1.2238635  -1.3783392  ...  1.8563395   0.7735903\n",
      "  -1.4703016 ]\n",
      " [ 0.8597378  -0.92469686 -1.6713753  ...  1.2039034  -0.13869023\n",
      "  -0.32454744]\n",
      " ...\n",
      " [-0.60446197 -0.6799242  -0.6457491  ...  0.8994331   0.09629128\n",
      "   0.67473245]\n",
      " [ 0.79872924  2.4295955  -0.09630711 ... -0.18796012 -0.7054102\n",
      "  -0.58494616]\n",
      " [-0.6288659   0.6889898   0.965949   ... -1.2318579  -1.1477281\n",
      "   0.4891984 ]]\n",
      "(89, 13)\n",
      "(89, 2)\n",
      "(89,)\n"
     ]
    }
   ],
   "source": [
    "###test set\n",
    "with open('wine_test.csv', newline='') as f:\n",
    "    reader_t = csv.reader(f)\n",
    "    data_t = list(reader_t)\n",
    "\n",
    "data_array_t = np.asarray(data_t, dtype=np.float32)\n",
    "data_unnorm_t = copy.deepcopy(data_array_t)\n",
    "\n",
    "data_fea_unnorm_t = data_unnorm_t[:,0:13]\n",
    "print(np.shape(data_fea_unnorm_t))\n",
    "mean_unnorm_t = np.mean(data_fea_unnorm_t, axis = 0)\n",
    "std_unnorm_t = np.std(data_fea_unnorm_t, axis = 0)\n",
    "print(np.shape(mean_unnorm_t))\n",
    "print(\"mean of unnormalized data points is: \") \n",
    "print(mean_unnorm_t)\n",
    "print(\"standard deviation of unnormalized data points is: \") \n",
    "print(std_unnorm_t)\n",
    "\n",
    "data_fea_norm_t = copy.deepcopy(data_fea_unnorm_t)\n",
    "\n",
    "data_fea_norm_t = sc_X.transform(data_fea_norm_t)     #\tFit to data, then transform it.\n",
    "print('After standardization:') \n",
    "print(data_fea_norm_t)\n",
    "print(np.shape(data_fea_norm_t))\n",
    "\n",
    "\n",
    "feature_2_unnorm_t = data_unnorm_t[:,0:2]\n",
    "#take first tow columns\n",
    "feature_2_t = data_fea_norm_t[:,0:2]\n",
    "print(np.shape(feature_2_t))\n",
    "class_labels_t = data_unnorm_t[:,13]\n",
    "print(np.shape(class_labels_t))\n",
    "feature_all_t = data_fea_norm_t[:,0:13]\n",
    "#print(class_labels_t)"
   ]
  },
  {
   "cell_type": "code",
   "execution_count": 71,
   "metadata": {},
   "outputs": [],
   "source": [
    "#Define Class MSE Binary\n",
    "class MSE_binary(LinearRegression):\n",
    "    def __init__(self):\n",
    "        print(\"Calling newly created MSE_binary function...\") \n",
    "        super(MSE_binary, self).__init__()\n",
    "    def predict(self, X): \n",
    "        thr = 0.5\n",
    "        y = self._decision_function(X) \n",
    "        y_binary = np.zeros(len(X))\n",
    "        for i in range(len(X)):\n",
    "            if(y[i] <= thr): \n",
    "                y_binary[i] = 0\n",
    "            else:\n",
    "                y_binary[i] = 1 \n",
    "        return y_binary"
   ]
  },
  {
   "cell_type": "code",
   "execution_count": 72,
   "metadata": {},
   "outputs": [
    {
     "name": "stdout",
     "output_type": "stream",
     "text": [
      "Calling newly created MSE_binary function...\n",
      "Calling newly created MSE_binary function...\n",
      "Calling newly created MSE_binary function...\n",
      "Calling newly created MSE_binary function...\n",
      "Final Weights of training set on 2 features:\n",
      "[[ 0.36964706 -0.12371702]\n",
      " [-0.42895293 -0.09728183]\n",
      " [ 0.05930588  0.2209989 ]]\n",
      "0.7640449438202247\n",
      "\n",
      "two features without normalization is 0.7528089887640449\n"
     ]
    }
   ],
   "source": [
    "#Apply to training data without normalization \n",
    "binary_model = MSE_binary()\n",
    "MSE = OneVsRestClassifier(binary_model) \n",
    "###\n",
    "MSE.fit(feature_2_unnorm, class_labels)\n",
    "print('Final Weights of training set on 2 features:')\n",
    "weight_train_2 = MSE.coef_\n",
    "print(weight_train_2)\n",
    "train_label_2 = MSE.predict(feature_2_unnorm) \n",
    "#print(train_label_2)\n",
    "print(MSE.score(feature_2_unnorm, class_labels))\n",
    "\n",
    "###testing set\n",
    "train_label_2t = MSE.predict(feature_2_unnorm_t) \n",
    "#print(train_label_2t)\n",
    "print()\n",
    "print('two features without normalization is ' + str(MSE.score(feature_2_unnorm_t, class_labels_t)))"
   ]
  },
  {
   "cell_type": "code",
   "execution_count": 73,
   "metadata": {},
   "outputs": [
    {
     "name": "stdout",
     "output_type": "stream",
     "text": [
      "Calling newly created MSE_binary function...\n",
      "Calling newly created MSE_binary function...\n",
      "Calling newly created MSE_binary function...\n",
      "Calling newly created MSE_binary function...\n",
      "Final Weights of training set on all features:\n",
      "[[ 1.0969099e-01  2.8158978e-02  2.5905353e-01 -2.4168508e-02\n",
      "   3.2915205e-03 -1.2894313e-01  1.3815075e-01 -4.4344119e-03\n",
      "  -1.1888250e-02 -3.6803999e-03  8.0482148e-02  1.6662785e-01\n",
      "   6.8767410e-04]\n",
      " [-1.5645780e-01 -8.5310064e-02 -4.0403950e-01  2.6162058e-02\n",
      "  -4.3318477e-03  6.4899474e-02  7.8159884e-02  5.3952408e-01\n",
      "   4.5420133e-02 -5.9371702e-02  8.9553423e-02 -7.7792858e-03\n",
      "  -5.0514203e-04]\n",
      " [ 4.6766806e-02  5.7151105e-02  1.4498602e-01 -1.9936217e-03\n",
      "   1.0403671e-03  6.4043455e-02 -2.1631055e-01 -5.3508961e-01\n",
      "  -3.3531871e-02  6.3052125e-02 -1.7003557e-01 -1.5884855e-01\n",
      "  -1.8253393e-04]]\n",
      "accuracy is 0.9887640449438202\n",
      "\n",
      "all features without normalization accuracy is 0.9775280898876404\n"
     ]
    }
   ],
   "source": [
    "#Apply to training data for all features without normalization \n",
    "binary_model = MSE_binary()\n",
    "MSE1 = OneVsRestClassifier(binary_model) \n",
    "MSE1.fit(data_fea_unnorm, class_labels)\n",
    "print('Final Weights of training set on all features:')\n",
    "weight_train_all = MSE1.coef_\n",
    "print(weight_train_all)\n",
    "train_label_all = MSE1.predict(data_fea_unnorm) \n",
    "#print(train_label_all)\n",
    "print('accuracy is ' + str(MSE1.score(data_fea_unnorm, class_labels)))\n",
    "###for testing \n",
    "print()\n",
    "train_label_allt = MSE1.predict(data_fea_unnorm_t) \n",
    "#print(train_label_allt)\n",
    "print('all features without normalization accuracy is ' + str(MSE1.score(data_fea_unnorm_t, class_labels_t)))"
   ]
  },
  {
   "cell_type": "code",
   "execution_count": 74,
   "metadata": {},
   "outputs": [
    {
     "name": "stdout",
     "output_type": "stream",
     "text": [
      "Calling newly created MSE_binary function...\n",
      "Calling newly created MSE_binary function...\n",
      "Calling newly created MSE_binary function...\n",
      "Calling newly created MSE_binary function...\n",
      "Final Weights of training set on 2 features:\n",
      "[[ 0.30294794 -0.13646786]\n",
      " [-0.35155267 -0.10730814]\n",
      " [ 0.04860476  0.24377602]]\n",
      "0.7640449438202247\n",
      "test accuracy is 0.7528089887640449\n"
     ]
    }
   ],
   "source": [
    "#Apply to training data with normalization \n",
    "binary_model = MSE_binary()\n",
    "MSE2 = OneVsRestClassifier(binary_model) \n",
    "###\n",
    "MSE2.fit(feature_2, class_labels)\n",
    "print('Final Weights of training set on 2 features:')\n",
    "weight_train_norm2 = MSE2.coef_\n",
    "print(weight_train_norm2)\n",
    "train_label_2 = MSE2.predict(feature_2) \n",
    "#print(train_label_2)\n",
    "print(MSE2.score(feature_2, class_labels))\n",
    "\n",
    "###testing set\n",
    "train_label_norm2t = MSE2.predict(feature_2_t) \n",
    "#print(train_label_norm2t)\n",
    "print('test accuracy with normalization is ' + str(MSE2.score(feature_2_t, class_labels_t)))"
   ]
  },
  {
   "cell_type": "code",
   "execution_count": 75,
   "metadata": {},
   "outputs": [
    {
     "name": "stdout",
     "output_type": "stream",
     "text": [
      "Calling newly created MSE_binary function...\n",
      "Calling newly created MSE_binary function...\n",
      "Calling newly created MSE_binary function...\n",
      "Calling newly created MSE_binary function...\n",
      "Final Weights of training set on 2 features:\n",
      "[[ 0.08989799  0.03106111  0.07072252 -0.08374789  0.0380466  -0.07924185\n",
      "   0.12705974 -0.00053324 -0.00643708 -0.00884906  0.01850338  0.12054878\n",
      "   0.21126793]\n",
      " [-0.12822543 -0.09410223 -0.11030418  0.09065598 -0.0500721   0.03988429\n",
      "   0.07188485  0.06487303  0.02459363 -0.14275204  0.02058925 -0.00562788\n",
      "  -0.15519111]\n",
      " [ 0.03832744  0.06304113  0.03958165 -0.00690807  0.01202553  0.03935761\n",
      "  -0.19894472 -0.06433979 -0.01815652  0.15160112 -0.03909263 -0.11492091\n",
      "  -0.05607681]]\n",
      "0.9887640449438202\n",
      "\n",
      "0.9775280898876404\n"
     ]
    }
   ],
   "source": [
    "#Apply to training data with normalization \n",
    "binary_model = MSE_binary()\n",
    "MSE3 = OneVsRestClassifier(binary_model) \n",
    "###\n",
    "MSE3.fit(data_fea_norm, class_labels)\n",
    "print('Final Weights of training set on 2 features:')\n",
    "weight_train_all_normt = MSE3.coef_\n",
    "print(weight_train_all_normt)\n",
    "train_label_all_normt = MSE3.predict(data_fea_norm) \n",
    "#print(train_label_all_normt)\n",
    "print(MSE3.score(data_fea_norm, class_labels))\n",
    "\n",
    "\n",
    "###testing set\n",
    "train_label_all_normt = MSE3.predict(data_fea_norm_t) \n",
    "#print(train_label_all_normt)\n",
    "print()\n",
    "print('test accuracy with normalization is ' + str(MSE3.score(data_fea_norm_t, class_labels_t)))"
   ]
  }
 ],
 "metadata": {
  "kernelspec": {
   "display_name": "Python 3",
   "language": "python",
   "name": "python3"
  },
  "language_info": {
   "codemirror_mode": {
    "name": "ipython",
    "version": 3
   },
   "file_extension": ".py",
   "mimetype": "text/x-python",
   "name": "python",
   "nbconvert_exporter": "python",
   "pygments_lexer": "ipython3",
   "version": "3.7.4"
  }
 },
 "nbformat": 4,
 "nbformat_minor": 2
}

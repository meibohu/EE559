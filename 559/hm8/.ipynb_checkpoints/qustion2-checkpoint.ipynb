{
 "cells": [
  {
   "cell_type": "code",
   "execution_count": 2,
   "metadata": {},
   "outputs": [],
   "source": [
    "import sklearn\n",
    "from sklearn.preprocessing import StandardScaler\n",
    "from sklearn.model_selection import StratifiedKFold\n",
    "from sklearn.metrics import accuracy_score\n",
    "from sklearn.svm import SVC\n",
    "\n",
    "import csv\n",
    "import numpy as np\n",
    "import math\n",
    "import matplotlib.pyplot as plt\n",
    "import copy\n",
    "import pandas as pd\n",
    "import matplotlib.pyplot as plt\n",
    "\n",
    "import plotSVMBoundaries as py\n",
    "#from sklearn.utils.validation import column_or_1d"
   ]
  },
  {
   "cell_type": "code",
   "execution_count": 3,
   "metadata": {},
   "outputs": [],
   "source": [
    "#training model\n",
    "def train_model(model, feature_set, label_set):\n",
    "    skf = StratifiedKFold(n_splits=5,shuffle=True)\n",
    "    cnt = []\n",
    "    for train_index, dev_index in skf.split(feature_set, label_set):\n",
    "    #   print(\"TRAIN:\", train_index, \"TEST:\", test_index)\n",
    "        X_train, X_dev = feature2_train[train_index], feature2_train[dev_index]\n",
    "        y_train, y_dev = label_train[train_index], label_train[dev_index]\n",
    "        model.fit(X_train, y_train)\n",
    "        acc = model.score(X_dev, y_dev)\n",
    "        cnt.append(acc)\n",
    "\n",
    "    return cnt\n",
    "\n"
   ]
  },
  {
   "cell_type": "code",
   "execution_count": 4,
   "metadata": {},
   "outputs": [
    {
     "name": "stdout",
     "output_type": "stream",
     "text": [
      "(5,)\n",
      "accuracy is \n",
      "0.7967320261437909\n"
     ]
    }
   ],
   "source": [
    "#Q2(a)\n",
    "feature_train = np.genfromtxt(\"feature_train.csv\", delimiter = \",\")\n",
    "label_train = np.genfromtxt(\"label_train.csv\", delimiter = \",\")\n",
    "feature_test  = np.genfromtxt(\"feature_test.csv\",  delimiter = \",\")\n",
    "label_test = np.genfromtxt(\"label_test.csv\", delimiter = \",\")\n",
    "\n",
    "feature2_train = feature_train[:,0:2]\n",
    "#train_data = np.column_stack((feature2_train,label_train))\n",
    "# print(np.shape(feature2_train))\n",
    "\n",
    "\n",
    "# s = model.predict(feature2_train)      #predict\n",
    "model = SVC(C=1, gamma=1, kernel='rbf')\n",
    "# skf = StratifiedKFold(n_splits=5,shuffle=True)\n",
    "\n",
    "cnt = train_model(model, feature2_train, label_train)\n",
    "print(np.shape(cnt))\n",
    "print(\"accuracy is \")\n",
    "print(np.mean(cnt, axis=0))"
   ]
  },
  {
   "cell_type": "code",
   "execution_count": 5,
   "metadata": {},
   "outputs": [
    {
     "name": "stdout",
     "output_type": "stream",
     "text": [
      "the best gamma is 0.3727593720314938\n",
      "the best C is 4.714866363457395\n",
      "the best accuracy is \n",
      "0.8653594771241832\n"
     ]
    },
    {
     "data": {
      "image/png": "[encoded data removed]",
      "text/plain": [
       "<Figure size 432x288 with 2 Axes>"
      ]
     },
     "metadata": {
      "needs_background": "light"
     },
     "output_type": "display_data"
    }
   ],
   "source": [
    "#Q2(b)\n",
    "##model selection\n",
    "# skf = StratifiedKFold(n_splits=5, shuffle=True)\n",
    "para_gamma = np.logspace(-3, 3, num=50)\n",
    "para_C = np.logspace(-3, 3, num=50)\n",
    "\n",
    "ACC = np.zeros((50,50))  #store average accuracies p on the validation set\n",
    "DEV = np.zeros((50,50))     #store the estimated standard deviation of accuracies\n",
    "\n",
    "res = 1\n",
    "for i,gamma in enumerate(para_gamma):\n",
    "    for j,c in enumerate(para_C):\n",
    "        model2 = SVC(C = c, gamma = gamma, kernel = 'rbf')\n",
    "        acc = train_model(model2, feature2_train, label_train) \n",
    "        ACC[i,j] = np.mean(acc)\n",
    "        DEV[i,j] = np.std(acc)\n",
    "                            \n",
    "plt.imshow(ACC, interpolation = 'nearest', cmap=plt.cm.Blues)\n",
    "plt.colorbar()  \n",
    "\n",
    "i, j = np.argwhere(ACC == np.max(ACC))[0]\n",
    "print(\"the best gamma is \" + str(para_gamma[i]))\n",
    "print(\"the best C is \" + str(para_C[j]))\n",
    "print(\"the best accuracy is \")\n",
    "print(ACC[i,j])               "
   ]
  },
  {
   "cell_type": "code",
   "execution_count": 6,
   "metadata": {},
   "outputs": [
    {
     "name": "stdout",
     "output_type": "stream",
     "text": [
      "0.8666666666666668\n",
      "0.8653594771241829\n",
      "0.8660130718954248\n",
      "0.866013071895425\n",
      "0.8666666666666666\n",
      "0.8660130718954248\n",
      "0.866013071895425\n",
      "0.8660130718954248\n",
      "0.8764705882352942\n",
      "0.866013071895425\n",
      "0.8555555555555557\n",
      "0.8660130718954248\n",
      "0.8555555555555557\n",
      "0.8660130718954248\n",
      "0.8653594771241832\n",
      "0.8549019607843137\n",
      "0.8666666666666668\n",
      "0.8764705882352942\n",
      "0.8764705882352942\n"
     ]
    },
    {
     "ename": "KeyboardInterrupt",
     "evalue": "",
     "output_type": "error",
     "traceback": [
      "\u001b[0;31m---------------------------------------------------------------------------\u001b[0m",
      "\u001b[0;31mKeyboardInterrupt\u001b[0m                         Traceback (most recent call last)",
      "\u001b[0;32m<ipython-input-6-bf3dc4197570>\u001b[0m in \u001b[0;36m<module>\u001b[0;34m\u001b[0m\n\u001b[1;32m     15\u001b[0m         \u001b[0;32mfor\u001b[0m \u001b[0mj\u001b[0m\u001b[0;34m,\u001b[0m\u001b[0mc\u001b[0m \u001b[0;32min\u001b[0m \u001b[0menumerate\u001b[0m\u001b[0;34m(\u001b[0m\u001b[0mpara_C\u001b[0m\u001b[0;34m)\u001b[0m\u001b[0;34m:\u001b[0m\u001b[0;34m\u001b[0m\u001b[0;34m\u001b[0m\u001b[0m\n\u001b[1;32m     16\u001b[0m             \u001b[0mmodel2\u001b[0m \u001b[0;34m=\u001b[0m \u001b[0mSVC\u001b[0m\u001b[0;34m(\u001b[0m\u001b[0mC\u001b[0m \u001b[0;34m=\u001b[0m \u001b[0mc\u001b[0m\u001b[0;34m,\u001b[0m \u001b[0mgamma\u001b[0m \u001b[0;34m=\u001b[0m \u001b[0mgamma\u001b[0m\u001b[0;34m,\u001b[0m \u001b[0mkernel\u001b[0m \u001b[0;34m=\u001b[0m \u001b[0;34m'rbf'\u001b[0m\u001b[0;34m)\u001b[0m\u001b[0;34m\u001b[0m\u001b[0;34m\u001b[0m\u001b[0m\n\u001b[0;32m---> 17\u001b[0;31m             \u001b[0maccuracy\u001b[0m \u001b[0;34m=\u001b[0m \u001b[0mtrain_model\u001b[0m\u001b[0;34m(\u001b[0m\u001b[0mmodel2\u001b[0m\u001b[0;34m,\u001b[0m \u001b[0mfeature2_train\u001b[0m\u001b[0;34m,\u001b[0m \u001b[0mlabel_train\u001b[0m\u001b[0;34m)\u001b[0m\u001b[0;34m\u001b[0m\u001b[0;34m\u001b[0m\u001b[0m\n\u001b[0m\u001b[1;32m     18\u001b[0m             \u001b[0macc\u001b[0m\u001b[0;34m[\u001b[0m\u001b[0mi\u001b[0m\u001b[0;34m,\u001b[0m\u001b[0mj\u001b[0m\u001b[0;34m]\u001b[0m \u001b[0;34m=\u001b[0m \u001b[0mnp\u001b[0m\u001b[0;34m.\u001b[0m\u001b[0mmean\u001b[0m\u001b[0;34m(\u001b[0m\u001b[0maccuracy\u001b[0m\u001b[0;34m)\u001b[0m\u001b[0;34m\u001b[0m\u001b[0;34m\u001b[0m\u001b[0m\n\u001b[1;32m     19\u001b[0m             \u001b[0mdev\u001b[0m\u001b[0;34m[\u001b[0m\u001b[0mi\u001b[0m\u001b[0;34m,\u001b[0m\u001b[0mj\u001b[0m\u001b[0;34m]\u001b[0m \u001b[0;34m=\u001b[0m \u001b[0mnp\u001b[0m\u001b[0;34m.\u001b[0m\u001b[0mstd\u001b[0m\u001b[0;34m(\u001b[0m\u001b[0maccuracy\u001b[0m\u001b[0;34m)\u001b[0m\u001b[0;34m\u001b[0m\u001b[0;34m\u001b[0m\u001b[0m\n",
      "\u001b[0;32m<ipython-input-3-1eededaecf8a>\u001b[0m in \u001b[0;36mtrain_model\u001b[0;34m(model, feature_set, label_set)\u001b[0m\n\u001b[1;32m      8\u001b[0m         \u001b[0my_train\u001b[0m\u001b[0;34m,\u001b[0m \u001b[0my_dev\u001b[0m \u001b[0;34m=\u001b[0m \u001b[0mlabel_train\u001b[0m\u001b[0;34m[\u001b[0m\u001b[0mtrain_index\u001b[0m\u001b[0;34m]\u001b[0m\u001b[0;34m,\u001b[0m \u001b[0mlabel_train\u001b[0m\u001b[0;34m[\u001b[0m\u001b[0mdev_index\u001b[0m\u001b[0;34m]\u001b[0m\u001b[0;34m\u001b[0m\u001b[0;34m\u001b[0m\u001b[0m\n\u001b[1;32m      9\u001b[0m         \u001b[0mmodel\u001b[0m\u001b[0;34m.\u001b[0m\u001b[0mfit\u001b[0m\u001b[0;34m(\u001b[0m\u001b[0mX_train\u001b[0m\u001b[0;34m,\u001b[0m \u001b[0my_train\u001b[0m\u001b[0;34m)\u001b[0m\u001b[0;34m\u001b[0m\u001b[0;34m\u001b[0m\u001b[0m\n\u001b[0;32m---> 10\u001b[0;31m         \u001b[0macc\u001b[0m \u001b[0;34m=\u001b[0m \u001b[0mmodel\u001b[0m\u001b[0;34m.\u001b[0m\u001b[0mscore\u001b[0m\u001b[0;34m(\u001b[0m\u001b[0mX_dev\u001b[0m\u001b[0;34m,\u001b[0m \u001b[0my_dev\u001b[0m\u001b[0;34m)\u001b[0m\u001b[0;34m\u001b[0m\u001b[0;34m\u001b[0m\u001b[0m\n\u001b[0m\u001b[1;32m     11\u001b[0m         \u001b[0mcnt\u001b[0m\u001b[0;34m.\u001b[0m\u001b[0mappend\u001b[0m\u001b[0;34m(\u001b[0m\u001b[0macc\u001b[0m\u001b[0;34m)\u001b[0m\u001b[0;34m\u001b[0m\u001b[0;34m\u001b[0m\u001b[0m\n\u001b[1;32m     12\u001b[0m \u001b[0;34m\u001b[0m\u001b[0m\n",
      "\u001b[0;32m/opt/anaconda3/lib/python3.7/site-packages/sklearn/base.py\u001b[0m in \u001b[0;36mscore\u001b[0;34m(self, X, y, sample_weight)\u001b[0m\n\u001b[1;32m    367\u001b[0m         \"\"\"\n\u001b[1;32m    368\u001b[0m         \u001b[0;32mfrom\u001b[0m \u001b[0;34m.\u001b[0m\u001b[0mmetrics\u001b[0m \u001b[0;32mimport\u001b[0m \u001b[0maccuracy_score\u001b[0m\u001b[0;34m\u001b[0m\u001b[0;34m\u001b[0m\u001b[0m\n\u001b[0;32m--> 369\u001b[0;31m         \u001b[0;32mreturn\u001b[0m \u001b[0maccuracy_score\u001b[0m\u001b[0;34m(\u001b[0m\u001b[0my\u001b[0m\u001b[0;34m,\u001b[0m \u001b[0mself\u001b[0m\u001b[0;34m.\u001b[0m\u001b[0mpredict\u001b[0m\u001b[0;34m(\u001b[0m\u001b[0mX\u001b[0m\u001b[0;34m)\u001b[0m\u001b[0;34m,\u001b[0m \u001b[0msample_weight\u001b[0m\u001b[0;34m=\u001b[0m\u001b[0msample_weight\u001b[0m\u001b[0;34m)\u001b[0m\u001b[0;34m\u001b[0m\u001b[0;34m\u001b[0m\u001b[0m\n\u001b[0m\u001b[1;32m    370\u001b[0m \u001b[0;34m\u001b[0m\u001b[0m\n\u001b[1;32m    371\u001b[0m \u001b[0;34m\u001b[0m\u001b[0m\n",
      "\u001b[0;32m/opt/anaconda3/lib/python3.7/site-packages/sklearn/svm/_base.py\u001b[0m in \u001b[0;36mpredict\u001b[0;34m(self, X)\u001b[0m\n\u001b[1;32m    582\u001b[0m             \u001b[0mClass\u001b[0m \u001b[0mlabels\u001b[0m \u001b[0;32mfor\u001b[0m \u001b[0msamples\u001b[0m \u001b[0;32min\u001b[0m \u001b[0mX\u001b[0m\u001b[0;34m.\u001b[0m\u001b[0;34m\u001b[0m\u001b[0;34m\u001b[0m\u001b[0m\n\u001b[1;32m    583\u001b[0m         \"\"\"\n\u001b[0;32m--> 584\u001b[0;31m         \u001b[0mcheck_is_fitted\u001b[0m\u001b[0;34m(\u001b[0m\u001b[0mself\u001b[0m\u001b[0;34m)\u001b[0m\u001b[0;34m\u001b[0m\u001b[0;34m\u001b[0m\u001b[0m\n\u001b[0m\u001b[1;32m    585\u001b[0m         \u001b[0;32mif\u001b[0m \u001b[0mself\u001b[0m\u001b[0;34m.\u001b[0m\u001b[0mbreak_ties\u001b[0m \u001b[0;32mand\u001b[0m \u001b[0mself\u001b[0m\u001b[0;34m.\u001b[0m\u001b[0mdecision_function_shape\u001b[0m \u001b[0;34m==\u001b[0m \u001b[0;34m'ovo'\u001b[0m\u001b[0;34m:\u001b[0m\u001b[0;34m\u001b[0m\u001b[0;34m\u001b[0m\u001b[0m\n\u001b[1;32m    586\u001b[0m             raise ValueError(\"break_ties must be False when \"\n",
      "\u001b[0;31mKeyboardInterrupt\u001b[0m: "
     ]
    }
   ],
   "source": [
    "##(C)\n",
    "ACC = []\n",
    "DEV = []\n",
    "res = []\n",
    "for k in range(9):\n",
    "    list = []\n",
    "    skf = StratifiedKFold(n_splits=5, shuffle=True)\n",
    "    para_gamma = np.logspace(-3, 3, num=50)\n",
    "    para_C = np.logspace(-3, 3, num=50)\n",
    "\n",
    "    acc = np.zeros((50,50))  #store average accuracies p on the validation set\n",
    "    dev = np.zeros((50,50))     #store the estimated standard deviation of accuracies\n",
    "\n",
    "    for i,gamma in enumerate(para_gamma):\n",
    "        for j,c in enumerate(para_C):\n",
    "            model2 = SVC(C = c, gamma = gamma, kernel = 'rbf')\n",
    "            accuracy = train_model(model2, feature2_train, label_train) \n",
    "            acc[i,j] = np.mean(accuracy)\n",
    "            dev[i,j] = np.std(accuracy)\n",
    "\n",
    "    #plt.imshow(ACC, interpolation = 'nearest', cmap=plt.cm.Blues)\n",
    "    #plt.colorbar()  \n",
    "\n",
    "    i, j = np.argwhere(acc == np.max(acc))[0]\n",
    "    res.append((para_gamma[i], para_C[j]))\n",
    "    \n",
    "    print(acc[i,j])\n",
    "    ACC.append(acc[i,j])\n",
    "    DEV.append(dev[i,j])\n",
    "\n",
    "print()\n",
    "print(res)\n",
    "print()\n",
    "i = np.argwhere(ACC == np.max(ACC))[0]    \n",
    "print(\"accuracy is \" + str(ACC[int(i)]))\n",
    "print(\"standard deviation is \" + str(DEV[int(i)]))\n",
    "print(\"i,j pair is \" + str(res[int(i)]))\n",
    "\n",
    "##(d) on all training set\n",
    "gam_best = res[int(i)][0]\n",
    "c_best = res[int(i)][1]\n",
    "model = SVC(C=c_best, gamma=gam_best, kernel='rbf')\n",
    "model.fit(feature_train, label_train)\n",
    "s = model.predict(feature_test)      #predict  \n",
    "\n",
    "acc = accuracy_score(label_test, s)   \n",
    "print(\"training on test set the accuracy is \" + str(acc))\n"
   ]
  },
  {
   "cell_type": "markdown",
   "metadata": {},
   "source": []
  },
  {
   "cell_type": "code",
   "execution_count": null,
   "metadata": {},
   "outputs": [],
   "source": [
    "print(np.array(res))"
   ]
  },
  {
   "cell_type": "code",
   "execution_count": null,
   "metadata": {},
   "outputs": [],
   "source": []
  }
 ],
 "metadata": {
  "kernelspec": {
   "display_name": "Python 3",
   "language": "python",
   "name": "python3"
  },
  "language_info": {
   "codemirror_mode": {
    "name": "ipython",
    "version": 3
   },
   "file_extension": ".py",
   "mimetype": "text/x-python",
   "name": "python",
   "nbconvert_exporter": "python",
   "pygments_lexer": "ipython3",
   "version": "3.7.4"
  }
 },
 "nbformat": 4,
 "nbformat_minor": 2
}

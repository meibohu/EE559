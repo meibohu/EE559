{
 "cells": [
  {
   "cell_type": "code",
   "execution_count": 7,
   "metadata": {},
   "outputs": [],
   "source": [
    "import sklearn\n",
    "from sklearn.preprocessing import StandardScaler\n",
    "from sklearn.model_selection import StratifiedKFold\n",
    "from sklearn.metrics import accuracy_score\n",
    "from sklearn.svm import SVC\n",
    "\n",
    "import csv\n",
    "import numpy as np\n",
    "import math\n",
    "import matplotlib.pyplot as plt\n",
    "import copy\n",
    "import pandas as pd\n",
    "import matplotlib.pyplot as plt\n",
    "\n",
    "import plotSVMBoundaries as py\n",
    "#from sklearn.utils.validation import column_or_1d"
   ]
  },
  {
   "cell_type": "code",
   "execution_count": 8,
   "metadata": {},
   "outputs": [],
   "source": [
    "#training model\n",
    "def train_model(model, feature_set, label_set):\n",
    "    skf = StratifiedKFold(n_splits=5,shuffle=True)\n",
    "    cnt = []\n",
    "    for train_index, dev_index in skf.split(feature_set, label_set):\n",
    "    #   print(\"TRAIN:\", train_index, \"TEST:\", test_index)\n",
    "        X_train, X_dev = feature2_train[train_index], feature2_train[dev_index]\n",
    "        y_train, y_dev = label_train[train_index], label_train[dev_index]\n",
    "        model.fit(X_train, y_train)\n",
    "        acc = model.score(X_dev, y_dev)\n",
    "        cnt.append(acc)\n",
    "\n",
    "    return cnt\n",
    "\n"
   ]
  },
  {
   "cell_type": "code",
   "execution_count": 9,
   "metadata": {},
   "outputs": [
    {
     "name": "stdout",
     "output_type": "stream",
     "text": [
      "(5,)\n",
      "accuracy is \n",
      "0.8431372549019607\n"
     ]
    }
   ],
   "source": [
    "#Q2(a)\n",
    "feature_train = np.genfromtxt(\"feature_train.csv\", delimiter = \",\")\n",
    "label_train = np.genfromtxt(\"label_train.csv\", delimiter = \",\")\n",
    "feature_test  = np.genfromtxt(\"feature_test.csv\",  delimiter = \",\")\n",
    "label_test = np.genfromtxt(\"label_test.csv\", delimiter = \",\")\n",
    "\n",
    "feature2_train = feature_train[:,0:2]\n",
    "#train_data = np.column_stack((feature2_train,label_train))\n",
    "# print(np.shape(feature2_train))\n",
    "\n",
    "\n",
    "# s = model.predict(feature2_train)      #predict\n",
    "model = SVC(C=1, gamma=1, kernel='rbf')\n",
    "# skf = StratifiedKFold(n_splits=5,shuffle=True)\n",
    "\n",
    "cnt = train_model(model, feature2_train, label_train)\n",
    "print(np.shape(cnt))\n",
    "print(\"accuracy is \")\n",
    "print(np.mean(cnt, axis=0))"
   ]
  },
  {
   "cell_type": "code",
   "execution_count": 10,
   "metadata": {},
   "outputs": [
    {
     "name": "stdout",
     "output_type": "stream",
     "text": [
      "the best gamma is 0.1206792640639329\n",
      "the best C is 44.98432668969444\n",
      "the best accuracy is \n",
      "0.877124183006536\n"
     ]
    },
    {
     "data": {
      "image/png": "[encoded data removed]",
      "text/plain": [
       "<Figure size 432x288 with 2 Axes>"
      ]
     },
     "metadata": {
      "needs_background": "light"
     },
     "output_type": "display_data"
    }
   ],
   "source": [
    "#Q2(b)\n",
    "##model selection\n",
    "# skf = StratifiedKFold(n_splits=5, shuffle=True)\n",
    "para_gamma = np.logspace(-3, 3, num=50)\n",
    "para_C = np.logspace(-3, 3, num=50)\n",
    "\n",
    "ACC = np.zeros((50,50))  #store average accuracies p on the validation set\n",
    "DEV = np.zeros((50,50))     #store the estimated standard deviation of accuracies\n",
    "\n",
    "res = 1\n",
    "for i,gamma in enumerate(para_gamma):\n",
    "    for j,c in enumerate(para_C):\n",
    "        model2 = SVC(C = c, gamma = gamma, kernel = 'rbf')\n",
    "        acc = train_model(model2, feature2_train, label_train) \n",
    "        ACC[i,j] = np.mean(acc)\n",
    "        DEV[i,j] = np.std(acc)\n",
    "                            \n",
    "plt.imshow(ACC, interpolation = 'nearest', cmap=plt.cm.Blues)\n",
    "plt.colorbar()  \n",
    "\n",
    "i, j = np.argwhere(ACC == np.max(ACC))[0]\n",
    "print(\"the best gamma is \" + str(para_gamma[i]))\n",
    "print(\"the best C is \" + str(para_C[j]))\n",
    "print(\"the best accuracy is \")\n",
    "print(ACC[i,j])               "
   ]
  },
  {
   "cell_type": "code",
   "execution_count": 11,
   "metadata": {},
   "outputs": [
    {
     "name": "stdout",
     "output_type": "stream",
     "text": [
      "0.8653594771241832\n",
      "0.8660130718954248\n",
      "0.8777777777777779\n",
      "0.8653594771241832\n",
      "0.866013071895425\n",
      "0.8660130718954248\n",
      "0.877124183006536\n",
      "0.8653594771241832\n",
      "0.8764705882352942\n",
      "\n",
      "[(0.0517947467923121, 323.745754281764), (0.03906939937054617, 79.06043210907701), (0.09102981779915217, 10.985411419875572), (0.21209508879201905, 33.9322177189533), (0.029470517025518096, 59.636233165946365), (0.655128556859551, 8.286427728546842), (0.49417133613238334, 33.9322177189533), (0.09102981779915217, 79.06043210907701), (0.3727593720314938, 10.985411419875572)]\n",
      "\n",
      "accuracy is 0.8777777777777779\n",
      "standard deviation is 0.06478835438717\n",
      "i,j pair is (0.09102981779915217, 10.985411419875572)\n",
      "training on test set the accuracy is 0.4044943820224719\n"
     ]
    }
   ],
   "source": [
    "##(C)\n",
    "ACC = []\n",
    "DEV = []\n",
    "res = []\n",
    "for k in range(9):\n",
    "    list = []\n",
    "    skf = StratifiedKFold(n_splits=5, shuffle=True)\n",
    "    para_gamma = np.logspace(-3, 3, num=50)\n",
    "    para_C = np.logspace(-3, 3, num=50)\n",
    "\n",
    "    acc = np.zeros((50,50))  #store average accuracies p on the validation set\n",
    "    dev = np.zeros((50,50))     #store the estimated standard deviation of accuracies\n",
    "\n",
    "    for i,gamma in enumerate(para_gamma):\n",
    "        for j,c in enumerate(para_C):\n",
    "            model2 = SVC(C = c, gamma = gamma, kernel = 'rbf')\n",
    "            accuracy = train_model(model2, feature2_train, label_train) \n",
    "            acc[i,j] = np.mean(accuracy)\n",
    "            dev[i,j] = np.std(accuracy)\n",
    "\n",
    "    #plt.imshow(ACC, interpolation = 'nearest', cmap=plt.cm.Blues)\n",
    "    #plt.colorbar()  \n",
    "\n",
    "    i, j = np.argwhere(acc == np.max(acc))[0]\n",
    "    res.append((para_gamma[i], para_C[j]))\n",
    "    \n",
    "    print(acc[i,j])\n",
    "    ACC.append(acc[i,j])\n",
    "    DEV.append(dev[i,j])\n",
    "\n",
    "print()\n",
    "print(res)\n",
    "print()\n",
    "i = np.argwhere(ACC == np.max(ACC))[0]    \n",
    "print(\"accuracy is \" + str(ACC[int(i)]))\n",
    "print(\"standard deviation is \" + str(DEV[int(i)]))\n",
    "print(\"i,j pair is \" + str(res[int(i)]))\n",
    "\n",
    "\n",
    "##(d) on all training set\n",
    "gam_best = res[int(i)][0]\n",
    "c_best = res[int(i)][1]\n",
    "model = SVC(C=c_best, gamma=gam_best, kernel='rbf')\n",
    "model.fit(feature_train, label_train)\n",
    "s = model.predict(feature_test)      #predict  \n",
    "\n",
    "acc = accuracy_score(label_test, s)   \n",
    "print(\"training on test set the accuracy is \" + str(acc))\n"
   ]
  },
  {
   "cell_type": "markdown",
   "metadata": {},
   "source": []
  },
  {
   "cell_type": "code",
   "execution_count": 12,
   "metadata": {},
   "outputs": [
    {
     "name": "stdout",
     "output_type": "stream",
     "text": [
      "[[5.17947468e-02 3.23745754e+02]\n",
      " [3.90693994e-02 7.90604321e+01]\n",
      " [9.10298178e-02 1.09854114e+01]\n",
      " [2.12095089e-01 3.39322177e+01]\n",
      " [2.94705170e-02 5.96362332e+01]\n",
      " [6.55128557e-01 8.28642773e+00]\n",
      " [4.94171336e-01 3.39322177e+01]\n",
      " [9.10298178e-02 7.90604321e+01]\n",
      " [3.72759372e-01 1.09854114e+01]]\n"
     ]
    }
   ],
   "source": [
    "print(np.array(res))"
   ]
  },
  {
   "cell_type": "code",
   "execution_count": null,
   "metadata": {},
   "outputs": [],
   "source": []
  }
 ],
 "metadata": {
  "kernelspec": {
   "display_name": "Python 3",
   "language": "python",
   "name": "python3"
  },
  "language_info": {
   "codemirror_mode": {
    "name": "ipython",
    "version": 3
   },
   "file_extension": ".py",
   "mimetype": "text/x-python",
   "name": "python",
   "nbconvert_exporter": "python",
   "pygments_lexer": "ipython3",
   "version": "3.7.4"
  }
 },
 "nbformat": 4,
 "nbformat_minor": 2
}

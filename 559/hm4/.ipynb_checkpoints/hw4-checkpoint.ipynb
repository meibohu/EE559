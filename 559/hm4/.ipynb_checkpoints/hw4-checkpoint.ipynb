{
 "cells": [
  {
   "cell_type": "code",
   "execution_count": 269,
   "metadata": {},
   "outputs": [],
   "source": [
    "import math  \n",
    "import numpy as np \n",
    "import matplotlib.pyplot as plt \n",
    "import copy"
   ]
  },
  {
   "cell_type": "code",
   "execution_count": 270,
   "metadata": {},
   "outputs": [],
   "source": [
    "def training(feature_set, label_set): \n",
    "    len_set = len(feature_set)\n",
    "    for i in range(len_set):\n",
    "        if(label_set[i] != 1):\n",
    "            feature_set[i,0] = -feature_set[i,0]      #reflected data points\n",
    "            feature_set[i,1] = -feature_set[i,1]\n",
    "            feature_set[i,2] = -1           \n",
    "        else:\n",
    "            feature_set[i,2] = 1\n",
    "            \n",
    "    #weight_ini = np.array([0.1, 0.1, 0.1])\n",
    "    \n",
    "   # epoch = 0\n",
    "    weight = np.zeros((len_set + 1, 3))\n",
    "    cost_fun = np.zeros((len_set, 1))\n",
    "    res_weight = np.zeros(3)\n",
    "    #flag = 1\n",
    "    for i in range(1000):\n",
    "        if i == 0:\n",
    "            weight[0,:] = np.array([0.1, 0.1, 0.1])\n",
    "        else:\n",
    "            weight[0,:] = weight[len_set, :]        #CUO\n",
    "        \n",
    "        for j in range(len_set):\n",
    "            cost_fun[j] = np.dot(weight[j,:], feature_set[j,:])\n",
    "            if cost_fun[j] <= 0:\n",
    "                weight[j+1,:] = weight[j,:] + feature_set[j,:]\n",
    "            else:\n",
    "                weight[j+1,:] = weight[j,:]\n",
    "        \n",
    "        if(i == 999):              #don't know\n",
    "            cost = np.argmin(cost_fun)\n",
    "            res_weight = weight[cost, :]\n",
    "        else:\n",
    "            res_weight = weight[len_set, :]   \n",
    "\n",
    "        if(np.array_equal(weight[0, :], weight[len_set, :])):   \n",
    "            break\n",
    "            \n",
    "    return res_weight"
   ]
  },
  {
   "cell_type": "code",
   "execution_count": 271,
   "metadata": {},
   "outputs": [],
   "source": [
    "#def testing(input_data, weight):\n",
    "def testing(feature_set, label_set, weight): \n",
    "    len_set = len(feature_set)\n",
    "    cost_fun = np.zeros((len_set, 1))\n",
    "    feature_set[:,2] = 1\n",
    "    #res_labels = np.zeros((len_set, 1))\n",
    "    error = 0\n",
    "                      \n",
    "    for i in range(len_set):\n",
    "        cost_fun[i] = np.dot(weight, feature_set[i,:]) \n",
    "\n",
    "        if(cost_fun[i] <= 0):\n",
    "            #res_labels[i] = 2\n",
    "            error += 1\n",
    "            #res_labels[i] = 1\n",
    "    \n",
    "    #for i in range(len_set):\n",
    "    #    if(res_labels[i] != label_set[i]):\n",
    "    #         error += 1\n",
    "    #error = error/len_set * 100\n",
    "    \n",
    "    return res_labels,error"
   ]
  },
  {
   "cell_type": "code",
   "execution_count": 272,
   "metadata": {},
   "outputs": [
    {
     "name": "stdout",
     "output_type": "stream",
     "text": [
      "(100, 3)\n",
      "[-1.          0.9273624   0.44103077]\n",
      "100\n",
      "1\n"
     ]
    }
   ],
   "source": [
    "train_set1 = np.genfromtxt(\"synthetic1_train.csv\", delimiter = \",\")\n",
    "test_set1  = np.genfromtxt(\"synthetic1_test.csv\",  delimiter = \",\")\n",
    "print(np.shape(train_set1))\n",
    "\n",
    "train_set11 = copy.deepcopy(train_set1)\n",
    "np.random.shuffle(train_set11)\n",
    "fea_set1 = np.array(train_set11[:, [0,1]])\n",
    "label_set1 = np.array(train_set11[:,-1])\n",
    "\n",
    "weight1 = training(train_set11, label_set1)\n",
    "#weight11 = weight1/np.max(np.abs(weight1))\n",
    "print(weight11)\n",
    "res_labels,error = testing(train_set11, label_set1, weight11)\n",
    "print(np.size(res_labels))\n",
    "print(error)"
   ]
  },
  {
   "cell_type": "code",
   "execution_count": null,
   "metadata": {},
   "outputs": [],
   "source": []
  },
  {
   "cell_type": "code",
   "execution_count": null,
   "metadata": {},
   "outputs": [],
   "source": []
  },
  {
   "cell_type": "code",
   "execution_count": null,
   "metadata": {},
   "outputs": [],
   "source": []
  },
  {
   "cell_type": "code",
   "execution_count": null,
   "metadata": {},
   "outputs": [],
   "source": []
  },
  {
   "cell_type": "code",
   "execution_count": null,
   "metadata": {},
   "outputs": [],
   "source": []
  },
  {
   "cell_type": "code",
   "execution_count": null,
   "metadata": {},
   "outputs": [],
   "source": []
  },
  {
   "cell_type": "code",
   "execution_count": null,
   "metadata": {},
   "outputs": [],
   "source": []
  }
 ],
 "metadata": {
  "kernelspec": {
   "display_name": "Python 3",
   "language": "python",
   "name": "python3"
  },
  "language_info": {
   "codemirror_mode": {
    "name": "ipython",
    "version": 3
   },
   "file_extension": ".py",
   "mimetype": "text/x-python",
   "name": "python",
   "nbconvert_exporter": "python",
   "pygments_lexer": "ipython3",
   "version": "3.7.4"
  }
 },
 "nbformat": 4,
 "nbformat_minor": 2
}

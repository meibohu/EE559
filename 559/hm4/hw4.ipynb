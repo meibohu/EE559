{
 "cells": [
  {
   "cell_type": "code",
   "execution_count": 1,
   "metadata": {},
   "outputs": [],
   "source": [
    "import math  \n",
    "import numpy as np \n",
    "import matplotlib.pyplot as plt \n",
    "import copy\n",
    "import plotDecBoundaries as py"
   ]
  },
  {
   "cell_type": "code",
   "execution_count": 2,
   "metadata": {},
   "outputs": [],
   "source": [
    "def training(feature_set, label_set): \n",
    "    len_set = len(feature_set)\n",
    "    augmented = np.ones((len_set,1))\n",
    "    for i in range(len_set):\n",
    "        if(label_set[i] != 1):\n",
    "            feature_set[i,0] = -feature_set[i,0]      #reflected data points\n",
    "            feature_set[i,1] = -feature_set[i,1]\n",
    "            feature_set[i,2] = -1           \n",
    "        else:\n",
    "            feature_set[i,2] = 1\n",
    "            \n",
    "    #weight_ini = np.array([0.1, 0.1, 0.1])\n",
    "    \n",
    "   # epoch = 0\n",
    "    weight = np.zeros((len_set + 1, 3))\n",
    "    cost_fun = np.zeros((len_set, 1))\n",
    "    res_weight = np.zeros(3)\n",
    "    \n",
    "    for i in range(1000):           \n",
    "        if i == 0:\n",
    "            weight[0,:] = np.array([0.1, 0.1, 0.1])\n",
    "        else:\n",
    "            weight[0,:] = weight[len_set, :]        \n",
    "        ###cost function\n",
    "        for j in range(len_set):\n",
    "            cost_fun[j] = np.dot(weight[j,:], feature_set[j,:])\n",
    "            if cost_fun[j] <= 0:\n",
    "                weight[j+1,:] = weight[j,:] + feature_set[j,:]\n",
    "            else:\n",
    "                weight[j+1,:] = weight[j,:]\n",
    "        \n",
    "        if(i == 999):              ###the last epoch\n",
    "            cost = np.argmin(cost_fun)\n",
    "            res_weight = weight[cost, :]\n",
    "        else:\n",
    "            res_weight = weight[len_set, :]   \n",
    "\n",
    "        if(np.array_equal(weight[0, :], weight[len_set, :])):   \n",
    "            break\n",
    "            \n",
    "    return res_weight"
   ]
  },
  {
   "cell_type": "code",
   "execution_count": 3,
   "metadata": {},
   "outputs": [],
   "source": [
    "#def testing(input_data, weight):\n",
    "def error_test(feature_set, weight, label_set): \n",
    "    len_set = len(feature_set)\n",
    "    cost_fun = np.zeros((len_set, 1))\n",
    "    feature_set[:,2] = 1\n",
    "    \n",
    "    \n",
    "    #res_labels = np.zeros((len_set, 1))\n",
    "    error = 0            \n",
    "    for i in range(len_set):\n",
    "        cost_fun[i] = np.dot(weight, feature_set[i,:])          #don't know \n",
    "        if cost_fun[i] <= 0:\n",
    "            error += 1 \n",
    "    \n",
    "    return error"
   ]
  },
  {
   "cell_type": "code",
   "execution_count": 4,
   "metadata": {},
   "outputs": [
    {
     "name": "stdout",
     "output_type": "stream",
     "text": [
      "100\n",
      "[-63.25075  63.4449   31.1    ]\n",
      "error of 'synthetic1_train.csv' is 0.01\n",
      "error of 'synthetic1_test.csv' is 0.0\n"
     ]
    },
    {
     "data": {
      "image/png": "[encoded data removed]",
      "text/plain": [
       "<Figure size 432x288 with 1 Axes>"
      ]
     },
     "metadata": {
      "needs_background": "light"
     },
     "output_type": "display_data"
    }
   ],
   "source": [
    "train_set1 = np.genfromtxt(\"synthetic1_train.csv\", delimiter = \",\")\n",
    "test_set1  = np.genfromtxt(\"synthetic1_test.csv\",  delimiter = \",\")\n",
    "size1 = len(train_set1[:,0])\n",
    "print(size1)\n",
    "\n",
    "train_set11 = copy.deepcopy(train_set1)\n",
    "np.random.permutation(train_set11)\n",
    "fea_set1 = np.array(train_set11[:, [0,1]])\n",
    "label_set1 = np.array(train_set11[:,-1])\n",
    "\n",
    "weight1 = training(train_set11, label_set1)\n",
    "#weight11 = weight1/np.max(np.abs(weight1))\n",
    "print(weight1)\n",
    "error1 = error_test(train_set11, weight1, label_set1)\n",
    "print(\"error of 'synthetic1_train.csv' is \" + str(error1/size1))\n",
    "\n",
    "test_set11 = copy.deepcopy(test_set1)\n",
    "np.random.permutation(test_set11)\n",
    "#fea_set12 = np.array(test_set11[:, [0,1]])\n",
    "label_set2 = np.array(test_set11[:,-1])\n",
    "\n",
    "weight2 = training(test_set11, label_set2)\n",
    "#print(weight2)\n",
    "error2 = error_test(test_set11, weight2, label_set2)\n",
    "#print(error2)\n",
    "print(\"error of 'synthetic1_test.csv' is \" + str(error2/size1))\n",
    "py.plotDecBoundaries(fea_set1, label_set1, weight1)"
   ]
  },
  {
   "cell_type": "code",
   "execution_count": 5,
   "metadata": {},
   "outputs": [
    {
     "name": "stdout",
     "output_type": "stream",
     "text": [
      "[-63.25075  63.4449   31.1    ]\n",
      "error of 'synthetic2_train.csv' is 0.01\n",
      "error of 'synthetic2_test.csv' is 0.05\n"
     ]
    },
    {
     "data": {
      "image/png": "[encoded data removed]",
      "text/plain": [
       "<Figure size 432x288 with 1 Axes>"
      ]
     },
     "metadata": {
      "needs_background": "light"
     },
     "output_type": "display_data"
    }
   ],
   "source": [
    "train_set2 = np.genfromtxt(\"synthetic2_train.csv\", delimiter = \",\")\n",
    "test_set2  = np.genfromtxt(\"synthetic2_test.csv\",  delimiter = \",\")\n",
    "size2 = len(train_set2[:,0])\n",
    "#train_set\n",
    "train_set21 = copy.deepcopy(train_set2)\n",
    "np.random.permutation(train_set21)\n",
    "fea_set2 = np.array(train_set21[:, [0,1]])\n",
    "label_set3 = np.array(train_set21[:,-1])\n",
    "\n",
    "weight3 = training(train_set21, label_set3)\n",
    "#weight11 = weight1/np.max(np.abs(weight1))\n",
    "print(weight1)\n",
    "error3 = error_test(train_set21, weight3, label_set3)\n",
    "print(\"error of 'synthetic2_train.csv' is \" + str(error3/size2))\n",
    "\n",
    "#test_set\n",
    "test_set22 = copy.deepcopy(test_set2)\n",
    "np.random.permutation(test_set22)\n",
    "fea_set22 = np.array(test_set22[:, [0,1]])\n",
    "label_set4 = np.array(test_set22[:,-1])\n",
    "\n",
    "fea_set23 = np.array(test_set22[:, [0,1]])\n",
    "weight4 = training(test_set22, label_set4)\n",
    "#print(weight2)\n",
    "error4 = error_test(test_set22, weight4, label_set4)\n",
    "print(\"error of 'synthetic2_test.csv' is \" + str(error4/size2))\n",
    "py.plotDecBoundaries(fea_set2, label_set3, weight3)\n"
   ]
  },
  {
   "cell_type": "code",
   "execution_count": 6,
   "metadata": {},
   "outputs": [
    {
     "ename": "NameError",
     "evalue": "name 'error5' is not defined",
     "output_type": "error",
     "traceback": [
      "\u001b[0;31m---------------------------------------------------------------------------\u001b[0m",
      "\u001b[0;31mNameError\u001b[0m                                 Traceback (most recent call last)",
      "\u001b[0;32m<ipython-input-6-7d846fbd194b>\u001b[0m in \u001b[0;36m<module>\u001b[0;34m\u001b[0m\n\u001b[1;32m     11\u001b[0m \u001b[0mweight5\u001b[0m \u001b[0;34m=\u001b[0m \u001b[0mtraining\u001b[0m\u001b[0;34m(\u001b[0m\u001b[0mfeature_train11\u001b[0m\u001b[0;34m,\u001b[0m \u001b[0mlabel_train\u001b[0m\u001b[0;34m)\u001b[0m\u001b[0;34m\u001b[0m\u001b[0;34m\u001b[0m\u001b[0m\n\u001b[1;32m     12\u001b[0m \u001b[0;31m#weight11 = weight1/np.max(np.abs(weight1))\u001b[0m\u001b[0;34m\u001b[0m\u001b[0;34m\u001b[0m\u001b[0;34m\u001b[0m\u001b[0m\n\u001b[0;32m---> 13\u001b[0;31m \u001b[0mprint\u001b[0m\u001b[0;34m(\u001b[0m\u001b[0;34m\"error of 'feature_train.csv' is \"\u001b[0m \u001b[0;34m+\u001b[0m \u001b[0mstr\u001b[0m\u001b[0;34m(\u001b[0m\u001b[0merror5\u001b[0m\u001b[0;34m/\u001b[0m\u001b[0msize3\u001b[0m\u001b[0;34m)\u001b[0m\u001b[0;34m)\u001b[0m\u001b[0;34m\u001b[0m\u001b[0;34m\u001b[0m\u001b[0m\n\u001b[0m\u001b[1;32m     14\u001b[0m \u001b[0merror5\u001b[0m \u001b[0;34m=\u001b[0m \u001b[0merror_test\u001b[0m\u001b[0;34m(\u001b[0m\u001b[0mfeature_train11\u001b[0m\u001b[0;34m,\u001b[0m \u001b[0mweight5\u001b[0m\u001b[0;34m,\u001b[0m \u001b[0mlabel_train\u001b[0m\u001b[0;34m)\u001b[0m\u001b[0;34m\u001b[0m\u001b[0;34m\u001b[0m\u001b[0m\n\u001b[1;32m     15\u001b[0m \u001b[0;31m#print(error5)\u001b[0m\u001b[0;34m\u001b[0m\u001b[0;34m\u001b[0m\u001b[0;34m\u001b[0m\u001b[0m\n",
      "\u001b[0;31mNameError\u001b[0m: name 'error5' is not defined"
     ]
    }
   ],
   "source": [
    "feature_train = np.genfromtxt(\"feature_train.csv\", delimiter = \",\")\n",
    "label_train = np.genfromtxt(\"label_train.csv\", delimiter = \",\")\n",
    "feature_test  = np.genfromtxt(\"feature_test.csv\",  delimiter = \",\")\n",
    "label_test = np.genfromtxt(\"label_test.csv\", delimiter = \",\")\n",
    "#print(np.shape(train_set2))\n",
    "size3 = len(feature_train[0,:])\n",
    "feature_train1 = copy.deepcopy(feature_train)\n",
    "np.random.permutation(feature_train1)\n",
    "#combine feature_train and label_train\n",
    "feature_train11 = np.column_stack((feature_train1,label_train))\n",
    "weight5 = training(feature_train11, label_train)\n",
    "#weight11 = weight1/np.max(np.abs(weight1))\n",
    "print(\"error of 'feature_train.csv' is \" + str(error5/size3))\n",
    "error5 = error_test(feature_train11, weight5, label_train)\n",
    "#print(error5)\n",
    "\n",
    "feature_test1 = copy.deepcopy(feature_test)\n",
    "np.random.permutation(feature_test1)\n",
    "#combine feature_train and label_train\n",
    "feature_test11 = np.column_stack((feature_test1,label_test))\n",
    "#print(np.shape(feature_test11))\n",
    "weight6 = training(feature_test11, label_test)\n",
    "#weight11 = weight1/np.max(np.abs(weight1))\n",
    "#print(weight6)\n",
    "error6 = error_test(feature_test11, weight6, label_test)\n",
    "print(\"error of 'feature_test.csv' is \" + str(error6/size2))\n",
    "print()\n",
    "py.plotDecBoundaries(feature_train1, label_train, weight5)"
   ]
  },
  {
   "cell_type": "markdown",
   "metadata": {},
   "source": []
  }
 ],
 "metadata": {
  "kernelspec": {
   "display_name": "Python 3",
   "language": "python",
   "name": "python3"
  },
  "language_info": {
   "codemirror_mode": {
    "name": "ipython",
    "version": 3
   },
   "file_extension": ".py",
   "mimetype": "text/x-python",
   "name": "python",
   "nbconvert_exporter": "python",
   "pygments_lexer": "ipython3",
   "version": "3.7.4"
  }
 },
 "nbformat": 4,
 "nbformat_minor": 2
}
